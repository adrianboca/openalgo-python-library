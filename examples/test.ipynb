{
 "cells": [
  {
   "cell_type": "code",
   "execution_count": 1,
   "metadata": {},
   "outputs": [],
   "source": [
    "from openalgo import api\n",
    "import pandas as pd\n",
    "import time\n",
    "\n",
    "# Initialize the API client\n",
    "client = api(\n",
    "    api_key=\"38f99d7d226cc0c3baa19dcacf0b1f049d2f68371da1dda2c97b1b63a3a9ca2e\",\n",
    "    host=\"http://127.0.0.1:5000\"\n",
    ")\n",
    "\n"
   ]
  },
  {
   "cell_type": "code",
   "execution_count": 3,
   "metadata": {},
   "outputs": [
    {
     "data": {
      "text/plain": [
       "{'orderid': '24120700005370', 'status': 'success'}"
      ]
     },
     "execution_count": 3,
     "metadata": {},
     "output_type": "execute_result"
    }
   ],
   "source": [
    "client.placeorder(\n",
    "    symbol=\"RELIANCE\",\n",
    "    action=\"BUY\",\n",
    "    exchange=\"NSE\",\n",
    "    price_type=\"MARKET\",\n",
    "    product=\"MIS\",\n",
    "    quantity=1\n",
    ")"
   ]
  },
  {
   "cell_type": "code",
   "execution_count": 4,
   "metadata": {},
   "outputs": [
    {
     "data": {
      "text/plain": [
       "{'mode': 'analyze', 'orderid': '24120800004', 'status': 'success'}"
      ]
     },
     "execution_count": 4,
     "metadata": {},
     "output_type": "execute_result"
    }
   ],
   "source": [
    "client.placesmartorder(\n",
    "    symbol=\"TATAMOTORS\",\n",
    "    action=\"SELL\",\n",
    "    exchange=\"NSE\",\n",
    "    price_type=\"MARKET\",\n",
    "    product=\"MIS\",\n",
    "    quantity=1,\n",
    "    position_size=5\n",
    ")"
   ]
  },
  {
   "cell_type": "code",
   "execution_count": 5,
   "metadata": {},
   "outputs": [
    {
     "data": {
      "text/plain": [
       "{'mode': 'analyze', 'orderid': '12345678', 'status': 'success'}"
      ]
     },
     "execution_count": 5,
     "metadata": {},
     "output_type": "execute_result"
    }
   ],
   "source": [
    "client.cancelorder(order_id=\"12345678\")"
   ]
  },
  {
   "cell_type": "code",
   "execution_count": 6,
   "metadata": {},
   "outputs": [
    {
     "data": {
      "text/plain": [
       "{'canceled_orders': [],\n",
       " 'failed_cancellations': [],\n",
       " 'message': 'All open orders will be cancelled',\n",
       " 'mode': 'analyze',\n",
       " 'status': 'success'}"
      ]
     },
     "execution_count": 6,
     "metadata": {},
     "output_type": "execute_result"
    }
   ],
   "source": [
    "client.cancelallorder(strategy=\"Python\")"
   ]
  },
  {
   "cell_type": "code",
   "execution_count": 7,
   "metadata": {},
   "outputs": [
    {
     "data": {
      "text/plain": [
       "{'message': 'All Open Positions will be Squared Off',\n",
       " 'mode': 'analyze',\n",
       " 'status': 'success'}"
      ]
     },
     "execution_count": 7,
     "metadata": {},
     "output_type": "execute_result"
    }
   ],
   "source": [
    "client.closeposition(strategy=\"Python\")"
   ]
  },
  {
   "cell_type": "code",
   "execution_count": 8,
   "metadata": {},
   "outputs": [
    {
     "data": {
      "text/plain": [
       "{'mode': 'analyze', 'orderid': '12345678', 'status': 'success'}"
      ]
     },
     "execution_count": 8,
     "metadata": {},
     "output_type": "execute_result"
    }
   ],
   "source": [
    "client.modifyorder(order_id=\"12345678\",symbol=\"INFY\",action=\"SELL\",exchange=\"NSE\",price_type=\"LIMIT\",product=\"CNC\",quantity=2,price=\"1500.00\",disclosed_quantity=\"0\",trigger_price=\"0\")"
   ]
  },
  {
   "cell_type": "code",
   "execution_count": 22,
   "metadata": {},
   "outputs": [
    {
     "data": {
      "text/plain": [
       "{'data': {'ask': 1311.55,\n",
       "  'bid': 0,\n",
       "  'high': 1323.9,\n",
       "  'low': 1310,\n",
       "  'ltp': 1311.55,\n",
       "  'open': 1323.9,\n",
       "  'prev_close': 1311.55,\n",
       "  'volume': 9037514},\n",
       " 'status': 'success'}"
      ]
     },
     "execution_count": 22,
     "metadata": {},
     "output_type": "execute_result"
    }
   ],
   "source": [
    "response = client.quotes(symbol=\"RELIANCE\", exchange=\"NSE\")\n",
    "response"
   ]
  },
  {
   "cell_type": "code",
   "execution_count": 24,
   "metadata": {},
   "outputs": [
    {
     "data": {
      "text/plain": [
       "{'data': {'asks': [{'price': 863.65, 'quantity': 2226},\n",
       "   {'price': 0, 'quantity': 0},\n",
       "   {'price': 0, 'quantity': 0},\n",
       "   {'price': 0, 'quantity': 0},\n",
       "   {'price': 0, 'quantity': 0}],\n",
       "  'bids': [{'price': 0, 'quantity': 0},\n",
       "   {'price': 0, 'quantity': 0},\n",
       "   {'price': 0, 'quantity': 0},\n",
       "   {'price': 0, 'quantity': 0},\n",
       "   {'price': 0, 'quantity': 0}],\n",
       "  'high': 875.45,\n",
       "  'low': 857,\n",
       "  'ltp': 863.65,\n",
       "  'ltq': 1,\n",
       "  'oi': 0,\n",
       "  'open': 865.25,\n",
       "  'prev_close': 863.65,\n",
       "  'totalbuyqty': 0,\n",
       "  'totalsellqty': 2226,\n",
       "  'volume': 14520568},\n",
       " 'status': 'success'}"
      ]
     },
     "execution_count": 24,
     "metadata": {},
     "output_type": "execute_result"
    }
   ],
   "source": [
    "response = client.depth(symbol=\"SBIN\", exchange=\"NSE\")\n",
    "response"
   ]
  },
  {
   "cell_type": "code",
   "execution_count": 29,
   "metadata": {},
   "outputs": [
    {
     "data": {
      "text/html": [
       "<div>\n",
       "<style scoped>\n",
       "    .dataframe tbody tr th:only-of-type {\n",
       "        vertical-align: middle;\n",
       "    }\n",
       "\n",
       "    .dataframe tbody tr th {\n",
       "        vertical-align: top;\n",
       "    }\n",
       "\n",
       "    .dataframe thead th {\n",
       "        text-align: right;\n",
       "    }\n",
       "</style>\n",
       "<table border=\"1\" class=\"dataframe\">\n",
       "  <thead>\n",
       "    <tr style=\"text-align: right;\">\n",
       "      <th></th>\n",
       "      <th>close</th>\n",
       "      <th>high</th>\n",
       "      <th>low</th>\n",
       "      <th>open</th>\n",
       "      <th>volume</th>\n",
       "      <th>returns</th>\n",
       "      <th>change%</th>\n",
       "    </tr>\n",
       "    <tr>\n",
       "      <th>timestamp</th>\n",
       "      <th></th>\n",
       "      <th></th>\n",
       "      <th></th>\n",
       "      <th></th>\n",
       "      <th></th>\n",
       "      <th></th>\n",
       "      <th></th>\n",
       "    </tr>\n",
       "  </thead>\n",
       "  <tbody>\n",
       "    <tr>\n",
       "      <th>2024-12-05 09:15:00+05:30</th>\n",
       "      <td>857.55</td>\n",
       "      <td>861.80</td>\n",
       "      <td>857.30</td>\n",
       "      <td>860.00</td>\n",
       "      <td>290410</td>\n",
       "      <td>NaN</td>\n",
       "      <td>NaN</td>\n",
       "    </tr>\n",
       "    <tr>\n",
       "      <th>2024-12-05 09:20:00+05:30</th>\n",
       "      <td>858.05</td>\n",
       "      <td>861.00</td>\n",
       "      <td>857.10</td>\n",
       "      <td>857.55</td>\n",
       "      <td>209830</td>\n",
       "      <td>0.000583</td>\n",
       "      <td>0.058306</td>\n",
       "    </tr>\n",
       "    <tr>\n",
       "      <th>2024-12-05 09:25:00+05:30</th>\n",
       "      <td>858.95</td>\n",
       "      <td>859.55</td>\n",
       "      <td>857.50</td>\n",
       "      <td>857.90</td>\n",
       "      <td>107427</td>\n",
       "      <td>0.001049</td>\n",
       "      <td>0.104889</td>\n",
       "    </tr>\n",
       "    <tr>\n",
       "      <th>2024-12-05 09:30:00+05:30</th>\n",
       "      <td>858.35</td>\n",
       "      <td>859.90</td>\n",
       "      <td>858.20</td>\n",
       "      <td>859.25</td>\n",
       "      <td>57789</td>\n",
       "      <td>-0.000699</td>\n",
       "      <td>-0.069853</td>\n",
       "    </tr>\n",
       "    <tr>\n",
       "      <th>2024-12-05 09:35:00+05:30</th>\n",
       "      <td>857.65</td>\n",
       "      <td>859.75</td>\n",
       "      <td>856.90</td>\n",
       "      <td>858.50</td>\n",
       "      <td>131032</td>\n",
       "      <td>-0.000816</td>\n",
       "      <td>-0.081552</td>\n",
       "    </tr>\n",
       "    <tr>\n",
       "      <th>...</th>\n",
       "      <td>...</td>\n",
       "      <td>...</td>\n",
       "      <td>...</td>\n",
       "      <td>...</td>\n",
       "      <td>...</td>\n",
       "      <td>...</td>\n",
       "      <td>...</td>\n",
       "    </tr>\n",
       "    <tr>\n",
       "      <th>2024-12-05 15:05:00+05:30</th>\n",
       "      <td>866.70</td>\n",
       "      <td>868.10</td>\n",
       "      <td>864.20</td>\n",
       "      <td>865.00</td>\n",
       "      <td>600910</td>\n",
       "      <td>0.002255</td>\n",
       "      <td>0.225499</td>\n",
       "    </tr>\n",
       "    <tr>\n",
       "      <th>2024-12-05 15:10:00+05:30</th>\n",
       "      <td>865.15</td>\n",
       "      <td>867.95</td>\n",
       "      <td>865.15</td>\n",
       "      <td>866.90</td>\n",
       "      <td>908566</td>\n",
       "      <td>-0.001788</td>\n",
       "      <td>-0.178839</td>\n",
       "    </tr>\n",
       "    <tr>\n",
       "      <th>2024-12-05 15:15:00+05:30</th>\n",
       "      <td>865.35</td>\n",
       "      <td>866.10</td>\n",
       "      <td>864.90</td>\n",
       "      <td>865.30</td>\n",
       "      <td>492140</td>\n",
       "      <td>0.000231</td>\n",
       "      <td>0.023117</td>\n",
       "    </tr>\n",
       "    <tr>\n",
       "      <th>2024-12-05 15:20:00+05:30</th>\n",
       "      <td>865.25</td>\n",
       "      <td>865.70</td>\n",
       "      <td>865.00</td>\n",
       "      <td>865.35</td>\n",
       "      <td>230001</td>\n",
       "      <td>-0.000116</td>\n",
       "      <td>-0.011556</td>\n",
       "    </tr>\n",
       "    <tr>\n",
       "      <th>2024-12-05 15:25:00+05:30</th>\n",
       "      <td>864.25</td>\n",
       "      <td>865.35</td>\n",
       "      <td>864.05</td>\n",
       "      <td>865.20</td>\n",
       "      <td>192463</td>\n",
       "      <td>-0.001156</td>\n",
       "      <td>-0.115574</td>\n",
       "    </tr>\n",
       "  </tbody>\n",
       "</table>\n",
       "<p>75 rows × 7 columns</p>\n",
       "</div>"
      ],
      "text/plain": [
       "                            close    high     low    open  volume   returns  \\\n",
       "timestamp                                                                     \n",
       "2024-12-05 09:15:00+05:30  857.55  861.80  857.30  860.00  290410       NaN   \n",
       "2024-12-05 09:20:00+05:30  858.05  861.00  857.10  857.55  209830  0.000583   \n",
       "2024-12-05 09:25:00+05:30  858.95  859.55  857.50  857.90  107427  0.001049   \n",
       "2024-12-05 09:30:00+05:30  858.35  859.90  858.20  859.25   57789 -0.000699   \n",
       "2024-12-05 09:35:00+05:30  857.65  859.75  856.90  858.50  131032 -0.000816   \n",
       "...                           ...     ...     ...     ...     ...       ...   \n",
       "2024-12-05 15:05:00+05:30  866.70  868.10  864.20  865.00  600910  0.002255   \n",
       "2024-12-05 15:10:00+05:30  865.15  867.95  865.15  866.90  908566 -0.001788   \n",
       "2024-12-05 15:15:00+05:30  865.35  866.10  864.90  865.30  492140  0.000231   \n",
       "2024-12-05 15:20:00+05:30  865.25  865.70  865.00  865.35  230001 -0.000116   \n",
       "2024-12-05 15:25:00+05:30  864.25  865.35  864.05  865.20  192463 -0.001156   \n",
       "\n",
       "                            change%  \n",
       "timestamp                            \n",
       "2024-12-05 09:15:00+05:30       NaN  \n",
       "2024-12-05 09:20:00+05:30  0.058306  \n",
       "2024-12-05 09:25:00+05:30  0.104889  \n",
       "2024-12-05 09:30:00+05:30 -0.069853  \n",
       "2024-12-05 09:35:00+05:30 -0.081552  \n",
       "...                             ...  \n",
       "2024-12-05 15:05:00+05:30  0.225499  \n",
       "2024-12-05 15:10:00+05:30 -0.178839  \n",
       "2024-12-05 15:15:00+05:30  0.023117  \n",
       "2024-12-05 15:20:00+05:30 -0.011556  \n",
       "2024-12-05 15:25:00+05:30 -0.115574  \n",
       "\n",
       "[75 rows x 7 columns]"
      ]
     },
     "execution_count": 29,
     "metadata": {},
     "output_type": "execute_result"
    }
   ],
   "source": [
    "client.history(symbol=\"SBIN\", \n",
    "    exchange=\"NSE\", \n",
    "    interval=\"5m\", \n",
    "    start_date=\"2024-12-05\", \n",
    "    end_date=\"2024-12-05\"\n",
    "    )"
   ]
  },
  {
   "cell_type": "code",
   "execution_count": 27,
   "metadata": {},
   "outputs": [
    {
     "data": {
      "text/plain": [
       "{'status': 'success',\n",
       " 'data': {'seconds': ['5s', '10s', '15s', '30s', '45s'],\n",
       "  'minutes': ['1m', '2m', '3m', '5m', '10m', '15m', '20m', '30m'],\n",
       "  'hours': ['1h', '2h', '4h'],\n",
       "  'days': ['D'],\n",
       "  'weeks': ['W'],\n",
       "  'months': ['M']}}"
      ]
     },
     "execution_count": 27,
     "metadata": {},
     "output_type": "execute_result"
    }
   ],
   "source": [
    "response = client.interval()\n",
    "response"
   ]
  }
 ],
 "metadata": {
  "kernelspec": {
   "display_name": "venv",
   "language": "python",
   "name": "python3"
  },
  "language_info": {
   "codemirror_mode": {
    "name": "ipython",
    "version": 3
   },
   "file_extension": ".py",
   "mimetype": "text/x-python",
   "name": "python",
   "nbconvert_exporter": "python",
   "pygments_lexer": "ipython3",
   "version": "3.13.0"
  }
 },
 "nbformat": 4,
 "nbformat_minor": 2
}
