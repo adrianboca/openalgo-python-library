{
 "cells": [
  {
   "cell_type": "code",
   "execution_count": 1,
   "metadata": {},
   "outputs": [],
   "source": [
    "from openalgo import api\n",
    "import pandas as pd\n",
    "import time\n",
    "\n",
    "# Initialize the API client\n",
    "client = api(\n",
    "    api_key=\"38f99d7d226cc0c3baa19dcacf0b1f049d2f68371da1dda2c97b1b63a3a9ca2e\",\n",
    "    host=\"http://127.0.0.1:5000\"\n",
    ")\n",
    "\n"
   ]
  },
  {
   "cell_type": "code",
   "execution_count": 3,
   "metadata": {},
   "outputs": [
    {
     "data": {
      "text/plain": [
       "{'orderid': '24120700005370', 'status': 'success'}"
      ]
     },
     "execution_count": 3,
     "metadata": {},
     "output_type": "execute_result"
    }
   ],
   "source": [
    "client.placeorder(\n",
    "    symbol=\"RELIANCE\",\n",
    "    action=\"BUY\",\n",
    "    exchange=\"NSE\",\n",
    "    price_type=\"MARKET\",\n",
    "    product=\"MIS\",\n",
    "    quantity=1\n",
    ")"
   ]
  },
  {
   "cell_type": "code",
   "execution_count": 4,
   "metadata": {},
   "outputs": [
    {
     "data": {
      "text/plain": [
       "{'mode': 'analyze', 'orderid': '24120800004', 'status': 'success'}"
      ]
     },
     "execution_count": 4,
     "metadata": {},
     "output_type": "execute_result"
    }
   ],
   "source": [
    "client.placesmartorder(\n",
    "    symbol=\"TATAMOTORS\",\n",
    "    action=\"SELL\",\n",
    "    exchange=\"NSE\",\n",
    "    price_type=\"MARKET\",\n",
    "    product=\"MIS\",\n",
    "    quantity=1,\n",
    "    position_size=5\n",
    ")"
   ]
  },
  {
   "cell_type": "code",
   "execution_count": 5,
   "metadata": {},
   "outputs": [
    {
     "data": {
      "text/plain": [
       "{'mode': 'analyze', 'orderid': '12345678', 'status': 'success'}"
      ]
     },
     "execution_count": 5,
     "metadata": {},
     "output_type": "execute_result"
    }
   ],
   "source": [
    "client.cancelorder(order_id=\"12345678\")"
   ]
  },
  {
   "cell_type": "code",
   "execution_count": 6,
   "metadata": {},
   "outputs": [
    {
     "data": {
      "text/plain": [
       "{'canceled_orders': [],\n",
       " 'failed_cancellations': [],\n",
       " 'message': 'All open orders will be cancelled',\n",
       " 'mode': 'analyze',\n",
       " 'status': 'success'}"
      ]
     },
     "execution_count": 6,
     "metadata": {},
     "output_type": "execute_result"
    }
   ],
   "source": [
    "client.cancelallorder(strategy=\"Python\")"
   ]
  },
  {
   "cell_type": "code",
   "execution_count": 7,
   "metadata": {},
   "outputs": [
    {
     "data": {
      "text/plain": [
       "{'message': 'All Open Positions will be Squared Off',\n",
       " 'mode': 'analyze',\n",
       " 'status': 'success'}"
      ]
     },
     "execution_count": 7,
     "metadata": {},
     "output_type": "execute_result"
    }
   ],
   "source": [
    "client.closeposition(strategy=\"Python\")"
   ]
  },
  {
   "cell_type": "code",
   "execution_count": 8,
   "metadata": {},
   "outputs": [
    {
     "data": {
      "text/plain": [
       "{'mode': 'analyze', 'orderid': '12345678', 'status': 'success'}"
      ]
     },
     "execution_count": 8,
     "metadata": {},
     "output_type": "execute_result"
    }
   ],
   "source": [
    "client.modifyorder(order_id=\"12345678\",symbol=\"INFY\",action=\"SELL\",exchange=\"NSE\",price_type=\"LIMIT\",product=\"CNC\",quantity=2,price=\"1500.00\",disclosed_quantity=\"0\",trigger_price=\"0\")"
   ]
  },
  {
   "cell_type": "code",
   "execution_count": 22,
   "metadata": {},
   "outputs": [
    {
     "data": {
      "text/plain": [
       "{'data': {'ask': 1311.55,\n",
       "  'bid': 0,\n",
       "  'high': 1323.9,\n",
       "  'low': 1310,\n",
       "  'ltp': 1311.55,\n",
       "  'open': 1323.9,\n",
       "  'prev_close': 1311.55,\n",
       "  'volume': 9037514},\n",
       " 'status': 'success'}"
      ]
     },
     "execution_count": 22,
     "metadata": {},
     "output_type": "execute_result"
    }
   ],
   "source": [
    "response = client.quotes(symbol=\"RELIANCE\", exchange=\"NSE\")\n",
    "response"
   ]
  },
  {
   "cell_type": "code",
   "execution_count": 24,
   "metadata": {},
   "outputs": [
    {
     "data": {
      "text/plain": [
       "{'data': {'asks': [{'price': 863.65, 'quantity': 2226},\n",
       "   {'price': 0, 'quantity': 0},\n",
       "   {'price': 0, 'quantity': 0},\n",
       "   {'price': 0, 'quantity': 0},\n",
       "   {'price': 0, 'quantity': 0}],\n",
       "  'bids': [{'price': 0, 'quantity': 0},\n",
       "   {'price': 0, 'quantity': 0},\n",
       "   {'price': 0, 'quantity': 0},\n",
       "   {'price': 0, 'quantity': 0},\n",
       "   {'price': 0, 'quantity': 0}],\n",
       "  'high': 875.45,\n",
       "  'low': 857,\n",
       "  'ltp': 863.65,\n",
       "  'ltq': 1,\n",
       "  'oi': 0,\n",
       "  'open': 865.25,\n",
       "  'prev_close': 863.65,\n",
       "  'totalbuyqty': 0,\n",
       "  'totalsellqty': 2226,\n",
       "  'volume': 14520568},\n",
       " 'status': 'success'}"
      ]
     },
     "execution_count": 24,
     "metadata": {},
     "output_type": "execute_result"
    }
   ],
   "source": [
    "response = client.depth(symbol=\"SBIN\", exchange=\"NSE\")\n",
    "response"
   ]
  },
  {
   "cell_type": "code",
   "execution_count": 28,
   "metadata": {},
   "outputs": [
    {
     "data": {
      "text/html": [
       "<div>\n",
       "<style scoped>\n",
       "    .dataframe tbody tr th:only-of-type {\n",
       "        vertical-align: middle;\n",
       "    }\n",
       "\n",
       "    .dataframe tbody tr th {\n",
       "        vertical-align: top;\n",
       "    }\n",
       "\n",
       "    .dataframe thead th {\n",
       "        text-align: right;\n",
       "    }\n",
       "</style>\n",
       "<table border=\"1\" class=\"dataframe\">\n",
       "  <thead>\n",
       "    <tr style=\"text-align: right;\">\n",
       "      <th></th>\n",
       "      <th>close</th>\n",
       "      <th>high</th>\n",
       "      <th>low</th>\n",
       "      <th>open</th>\n",
       "      <th>volume</th>\n",
       "      <th>returns</th>\n",
       "      <th>change%</th>\n",
       "    </tr>\n",
       "    <tr>\n",
       "      <th>timestamp</th>\n",
       "      <th></th>\n",
       "      <th></th>\n",
       "      <th></th>\n",
       "      <th></th>\n",
       "      <th></th>\n",
       "      <th></th>\n",
       "      <th></th>\n",
       "    </tr>\n",
       "  </thead>\n",
       "  <tbody>\n",
       "    <tr>\n",
       "      <th>2024-11-01 18:00:00+05:30</th>\n",
       "      <td>823.80</td>\n",
       "      <td>825.60</td>\n",
       "      <td>821.05</td>\n",
       "      <td>822.40</td>\n",
       "      <td>356579</td>\n",
       "      <td>NaN</td>\n",
       "      <td>NaN</td>\n",
       "    </tr>\n",
       "    <tr>\n",
       "      <th>2024-11-01 18:05:00+05:30</th>\n",
       "      <td>824.50</td>\n",
       "      <td>825.00</td>\n",
       "      <td>823.30</td>\n",
       "      <td>823.80</td>\n",
       "      <td>154219</td>\n",
       "      <td>0.000850</td>\n",
       "      <td>0.084972</td>\n",
       "    </tr>\n",
       "    <tr>\n",
       "      <th>2024-11-01 18:10:00+05:30</th>\n",
       "      <td>824.35</td>\n",
       "      <td>824.95</td>\n",
       "      <td>824.10</td>\n",
       "      <td>824.50</td>\n",
       "      <td>120777</td>\n",
       "      <td>-0.000182</td>\n",
       "      <td>-0.018193</td>\n",
       "    </tr>\n",
       "    <tr>\n",
       "      <th>2024-11-01 18:15:00+05:30</th>\n",
       "      <td>823.00</td>\n",
       "      <td>825.00</td>\n",
       "      <td>822.60</td>\n",
       "      <td>824.25</td>\n",
       "      <td>152934</td>\n",
       "      <td>-0.001638</td>\n",
       "      <td>-0.163765</td>\n",
       "    </tr>\n",
       "    <tr>\n",
       "      <th>2024-11-01 18:20:00+05:30</th>\n",
       "      <td>822.80</td>\n",
       "      <td>823.85</td>\n",
       "      <td>822.30</td>\n",
       "      <td>823.15</td>\n",
       "      <td>101812</td>\n",
       "      <td>-0.000243</td>\n",
       "      <td>-0.024301</td>\n",
       "    </tr>\n",
       "    <tr>\n",
       "      <th>...</th>\n",
       "      <td>...</td>\n",
       "      <td>...</td>\n",
       "      <td>...</td>\n",
       "      <td>...</td>\n",
       "      <td>...</td>\n",
       "      <td>...</td>\n",
       "      <td>...</td>\n",
       "    </tr>\n",
       "    <tr>\n",
       "      <th>2024-12-06 15:05:00+05:30</th>\n",
       "      <td>863.95</td>\n",
       "      <td>864.55</td>\n",
       "      <td>863.75</td>\n",
       "      <td>864.10</td>\n",
       "      <td>305030</td>\n",
       "      <td>-0.000116</td>\n",
       "      <td>-0.011573</td>\n",
       "    </tr>\n",
       "    <tr>\n",
       "      <th>2024-12-06 15:10:00+05:30</th>\n",
       "      <td>864.00</td>\n",
       "      <td>864.40</td>\n",
       "      <td>863.80</td>\n",
       "      <td>864.00</td>\n",
       "      <td>323210</td>\n",
       "      <td>0.000058</td>\n",
       "      <td>0.005787</td>\n",
       "    </tr>\n",
       "    <tr>\n",
       "      <th>2024-12-06 15:15:00+05:30</th>\n",
       "      <td>863.55</td>\n",
       "      <td>864.70</td>\n",
       "      <td>863.30</td>\n",
       "      <td>864.05</td>\n",
       "      <td>440876</td>\n",
       "      <td>-0.000521</td>\n",
       "      <td>-0.052083</td>\n",
       "    </tr>\n",
       "    <tr>\n",
       "      <th>2024-12-06 15:20:00+05:30</th>\n",
       "      <td>862.80</td>\n",
       "      <td>863.85</td>\n",
       "      <td>862.65</td>\n",
       "      <td>863.70</td>\n",
       "      <td>399707</td>\n",
       "      <td>-0.000869</td>\n",
       "      <td>-0.086851</td>\n",
       "    </tr>\n",
       "    <tr>\n",
       "      <th>2024-12-06 15:25:00+05:30</th>\n",
       "      <td>862.95</td>\n",
       "      <td>863.60</td>\n",
       "      <td>862.45</td>\n",
       "      <td>862.90</td>\n",
       "      <td>427233</td>\n",
       "      <td>0.000174</td>\n",
       "      <td>0.017385</td>\n",
       "    </tr>\n",
       "  </tbody>\n",
       "</table>\n",
       "<p>1737 rows × 7 columns</p>\n",
       "</div>"
      ],
      "text/plain": [
       "                            close    high     low    open  volume   returns  \\\n",
       "timestamp                                                                     \n",
       "2024-11-01 18:00:00+05:30  823.80  825.60  821.05  822.40  356579       NaN   \n",
       "2024-11-01 18:05:00+05:30  824.50  825.00  823.30  823.80  154219  0.000850   \n",
       "2024-11-01 18:10:00+05:30  824.35  824.95  824.10  824.50  120777 -0.000182   \n",
       "2024-11-01 18:15:00+05:30  823.00  825.00  822.60  824.25  152934 -0.001638   \n",
       "2024-11-01 18:20:00+05:30  822.80  823.85  822.30  823.15  101812 -0.000243   \n",
       "...                           ...     ...     ...     ...     ...       ...   \n",
       "2024-12-06 15:05:00+05:30  863.95  864.55  863.75  864.10  305030 -0.000116   \n",
       "2024-12-06 15:10:00+05:30  864.00  864.40  863.80  864.00  323210  0.000058   \n",
       "2024-12-06 15:15:00+05:30  863.55  864.70  863.30  864.05  440876 -0.000521   \n",
       "2024-12-06 15:20:00+05:30  862.80  863.85  862.65  863.70  399707 -0.000869   \n",
       "2024-12-06 15:25:00+05:30  862.95  863.60  862.45  862.90  427233  0.000174   \n",
       "\n",
       "                            change%  \n",
       "timestamp                            \n",
       "2024-11-01 18:00:00+05:30       NaN  \n",
       "2024-11-01 18:05:00+05:30  0.084972  \n",
       "2024-11-01 18:10:00+05:30 -0.018193  \n",
       "2024-11-01 18:15:00+05:30 -0.163765  \n",
       "2024-11-01 18:20:00+05:30 -0.024301  \n",
       "...                             ...  \n",
       "2024-12-06 15:05:00+05:30 -0.011573  \n",
       "2024-12-06 15:10:00+05:30  0.005787  \n",
       "2024-12-06 15:15:00+05:30 -0.052083  \n",
       "2024-12-06 15:20:00+05:30 -0.086851  \n",
       "2024-12-06 15:25:00+05:30  0.017385  \n",
       "\n",
       "[1737 rows x 7 columns]"
      ]
     },
     "execution_count": 28,
     "metadata": {},
     "output_type": "execute_result"
    }
   ],
   "source": [
    "client.history(symbol=\"SBIN\", \n",
    "    exchange=\"NSE\", \n",
    "    interval=\"5m\", \n",
    "    start_date=\"2024-11-01\", \n",
    "    end_date=\"2024-12-31\"\n",
    "    )"
   ]
  },
  {
   "cell_type": "code",
   "execution_count": 27,
   "metadata": {},
   "outputs": [
    {
     "data": {
      "text/plain": [
       "{'status': 'success',\n",
       " 'data': {'seconds': ['5s', '10s', '15s', '30s', '45s'],\n",
       "  'minutes': ['1m', '2m', '3m', '5m', '10m', '15m', '20m', '30m'],\n",
       "  'hours': ['1h', '2h', '4h'],\n",
       "  'days': ['D'],\n",
       "  'weeks': ['W'],\n",
       "  'months': ['M']}}"
      ]
     },
     "execution_count": 27,
     "metadata": {},
     "output_type": "execute_result"
    }
   ],
   "source": [
    "response = client.interval()\n",
    "response"
   ]
  }
 ],
 "metadata": {
  "kernelspec": {
   "display_name": "venv",
   "language": "python",
   "name": "python3"
  },
  "language_info": {
   "codemirror_mode": {
    "name": "ipython",
    "version": 3
   },
   "file_extension": ".py",
   "mimetype": "text/x-python",
   "name": "python",
   "nbconvert_exporter": "python",
   "pygments_lexer": "ipython3",
   "version": "3.13.0"
  }
 },
 "nbformat": 4,
 "nbformat_minor": 2
}
