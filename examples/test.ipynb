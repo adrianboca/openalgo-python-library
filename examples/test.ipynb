{
 "cells": [
  {
   "cell_type": "code",
   "execution_count": 4,
   "metadata": {},
   "outputs": [],
   "source": [
    "from openalgo import api\n",
    "import pandas as pd\n",
    "import time\n",
    "\n",
    "# Initialize the API client\n",
    "client = api(\n",
    "    api_key=\"8507608caf72988c1f48686653ea746ec147364a470fb5ebf9325f95632cdd72\",\n",
    "    host=\"http://127.0.0.1:5000\"\n",
    ")\n",
    "\n"
   ]
  },
  {
   "cell_type": "code",
   "execution_count": 3,
   "metadata": {},
   "outputs": [
    {
     "name": "stdout",
     "output_type": "stream",
     "text": [
      "OpenAlgo version: 1.0.4\n"
     ]
    }
   ],
   "source": [
    "import openalgo\n",
    "\n",
    "print(f\"OpenAlgo version: {openalgo.__version__}\")"
   ]
  },
  {
   "cell_type": "code",
   "execution_count": 3,
   "metadata": {},
   "outputs": [
    {
     "data": {
      "text/plain": [
       "{'orderid': '24120700005370', 'status': 'success'}"
      ]
     },
     "execution_count": 3,
     "metadata": {},
     "output_type": "execute_result"
    }
   ],
   "source": [
    "client.placeorder(\n",
    "    symbol=\"RELIANCE\",\n",
    "    action=\"BUY\",\n",
    "    exchange=\"NSE\",\n",
    "    price_type=\"MARKET\",\n",
    "    product=\"MIS\",\n",
    "    quantity=1\n",
    ")"
   ]
  },
  {
   "cell_type": "code",
   "execution_count": 4,
   "metadata": {},
   "outputs": [
    {
     "data": {
      "text/plain": [
       "{'mode': 'analyze', 'orderid': '24120800004', 'status': 'success'}"
      ]
     },
     "execution_count": 4,
     "metadata": {},
     "output_type": "execute_result"
    }
   ],
   "source": [
    "client.placesmartorder(\n",
    "    symbol=\"TATAMOTORS\",\n",
    "    action=\"SELL\",\n",
    "    exchange=\"NSE\",\n",
    "    price_type=\"MARKET\",\n",
    "    product=\"MIS\",\n",
    "    quantity=1,\n",
    "    position_size=5\n",
    ")"
   ]
  },
  {
   "cell_type": "code",
   "execution_count": 5,
   "metadata": {},
   "outputs": [
    {
     "data": {
      "text/plain": [
       "{'mode': 'analyze', 'orderid': '12345678', 'status': 'success'}"
      ]
     },
     "execution_count": 5,
     "metadata": {},
     "output_type": "execute_result"
    }
   ],
   "source": [
    "client.cancelorder(order_id=\"12345678\")"
   ]
  },
  {
   "cell_type": "code",
   "execution_count": 6,
   "metadata": {},
   "outputs": [
    {
     "data": {
      "text/plain": [
       "{'canceled_orders': [],\n",
       " 'failed_cancellations': [],\n",
       " 'message': 'All open orders will be cancelled',\n",
       " 'mode': 'analyze',\n",
       " 'status': 'success'}"
      ]
     },
     "execution_count": 6,
     "metadata": {},
     "output_type": "execute_result"
    }
   ],
   "source": [
    "client.cancelallorder(strategy=\"Python\")"
   ]
  },
  {
   "cell_type": "code",
   "execution_count": 7,
   "metadata": {},
   "outputs": [
    {
     "data": {
      "text/plain": [
       "{'message': 'All Open Positions will be Squared Off',\n",
       " 'mode': 'analyze',\n",
       " 'status': 'success'}"
      ]
     },
     "execution_count": 7,
     "metadata": {},
     "output_type": "execute_result"
    }
   ],
   "source": [
    "client.closeposition(strategy=\"Python\")"
   ]
  },
  {
   "cell_type": "code",
   "execution_count": 8,
   "metadata": {},
   "outputs": [
    {
     "data": {
      "text/plain": [
       "{'mode': 'analyze', 'orderid': '12345678', 'status': 'success'}"
      ]
     },
     "execution_count": 8,
     "metadata": {},
     "output_type": "execute_result"
    }
   ],
   "source": [
    "client.modifyorder(order_id=\"12345678\",symbol=\"INFY\",action=\"SELL\",exchange=\"NSE\",price_type=\"LIMIT\",product=\"CNC\",quantity=2,price=\"1500.00\",disclosed_quantity=\"0\",trigger_price=\"0\")"
   ]
  },
  {
   "cell_type": "code",
   "execution_count": 22,
   "metadata": {},
   "outputs": [
    {
     "data": {
      "text/plain": [
       "{'data': {'ask': 1311.55,\n",
       "  'bid': 0,\n",
       "  'high': 1323.9,\n",
       "  'low': 1310,\n",
       "  'ltp': 1311.55,\n",
       "  'open': 1323.9,\n",
       "  'prev_close': 1311.55,\n",
       "  'volume': 9037514},\n",
       " 'status': 'success'}"
      ]
     },
     "execution_count": 22,
     "metadata": {},
     "output_type": "execute_result"
    }
   ],
   "source": [
    "response = client.quotes(symbol=\"RELIANCE\", exchange=\"NSE\")\n",
    "response"
   ]
  },
  {
   "cell_type": "code",
   "execution_count": 24,
   "metadata": {},
   "outputs": [
    {
     "data": {
      "text/plain": [
       "{'data': {'asks': [{'price': 863.65, 'quantity': 2226},\n",
       "   {'price': 0, 'quantity': 0},\n",
       "   {'price': 0, 'quantity': 0},\n",
       "   {'price': 0, 'quantity': 0},\n",
       "   {'price': 0, 'quantity': 0}],\n",
       "  'bids': [{'price': 0, 'quantity': 0},\n",
       "   {'price': 0, 'quantity': 0},\n",
       "   {'price': 0, 'quantity': 0},\n",
       "   {'price': 0, 'quantity': 0},\n",
       "   {'price': 0, 'quantity': 0}],\n",
       "  'high': 875.45,\n",
       "  'low': 857,\n",
       "  'ltp': 863.65,\n",
       "  'ltq': 1,\n",
       "  'oi': 0,\n",
       "  'open': 865.25,\n",
       "  'prev_close': 863.65,\n",
       "  'totalbuyqty': 0,\n",
       "  'totalsellqty': 2226,\n",
       "  'volume': 14520568},\n",
       " 'status': 'success'}"
      ]
     },
     "execution_count": 24,
     "metadata": {},
     "output_type": "execute_result"
    }
   ],
   "source": [
    "response = client.depth(symbol=\"SBIN\", exchange=\"NSE\")\n",
    "response"
   ]
  },
  {
   "cell_type": "code",
   "execution_count": 6,
   "metadata": {},
   "outputs": [
    {
     "data": {
      "text/html": [
       "<div>\n",
       "<style scoped>\n",
       "    .dataframe tbody tr th:only-of-type {\n",
       "        vertical-align: middle;\n",
       "    }\n",
       "\n",
       "    .dataframe tbody tr th {\n",
       "        vertical-align: top;\n",
       "    }\n",
       "\n",
       "    .dataframe thead th {\n",
       "        text-align: right;\n",
       "    }\n",
       "</style>\n",
       "<table border=\"1\" class=\"dataframe\">\n",
       "  <thead>\n",
       "    <tr style=\"text-align: right;\">\n",
       "      <th></th>\n",
       "      <th>close</th>\n",
       "      <th>high</th>\n",
       "      <th>low</th>\n",
       "      <th>open</th>\n",
       "      <th>volume</th>\n",
       "    </tr>\n",
       "    <tr>\n",
       "      <th>timestamp</th>\n",
       "      <th></th>\n",
       "      <th></th>\n",
       "      <th></th>\n",
       "      <th></th>\n",
       "      <th></th>\n",
       "    </tr>\n",
       "  </thead>\n",
       "  <tbody>\n",
       "    <tr>\n",
       "      <th>2024-12-17 09:15:00+05:30</th>\n",
       "      <td>862.00</td>\n",
       "      <td>862.60</td>\n",
       "      <td>858.35</td>\n",
       "      <td>858.55</td>\n",
       "      <td>197536</td>\n",
       "    </tr>\n",
       "    <tr>\n",
       "      <th>2024-12-17 09:20:00+05:30</th>\n",
       "      <td>860.95</td>\n",
       "      <td>862.00</td>\n",
       "      <td>860.10</td>\n",
       "      <td>861.70</td>\n",
       "      <td>92286</td>\n",
       "    </tr>\n",
       "    <tr>\n",
       "      <th>2024-12-17 09:25:00+05:30</th>\n",
       "      <td>860.75</td>\n",
       "      <td>862.00</td>\n",
       "      <td>860.65</td>\n",
       "      <td>860.95</td>\n",
       "      <td>82038</td>\n",
       "    </tr>\n",
       "    <tr>\n",
       "      <th>2024-12-17 09:30:00+05:30</th>\n",
       "      <td>861.00</td>\n",
       "      <td>861.90</td>\n",
       "      <td>860.10</td>\n",
       "      <td>860.75</td>\n",
       "      <td>77185</td>\n",
       "    </tr>\n",
       "    <tr>\n",
       "      <th>2024-12-17 09:35:00+05:30</th>\n",
       "      <td>859.95</td>\n",
       "      <td>860.95</td>\n",
       "      <td>859.55</td>\n",
       "      <td>860.25</td>\n",
       "      <td>72397</td>\n",
       "    </tr>\n",
       "    <tr>\n",
       "      <th>...</th>\n",
       "      <td>...</td>\n",
       "      <td>...</td>\n",
       "      <td>...</td>\n",
       "      <td>...</td>\n",
       "      <td>...</td>\n",
       "    </tr>\n",
       "    <tr>\n",
       "      <th>2024-12-17 15:05:00+05:30</th>\n",
       "      <td>851.25</td>\n",
       "      <td>851.80</td>\n",
       "      <td>850.20</td>\n",
       "      <td>850.65</td>\n",
       "      <td>245731</td>\n",
       "    </tr>\n",
       "    <tr>\n",
       "      <th>2024-12-17 15:10:00+05:30</th>\n",
       "      <td>849.65</td>\n",
       "      <td>851.25</td>\n",
       "      <td>849.55</td>\n",
       "      <td>851.25</td>\n",
       "      <td>281770</td>\n",
       "    </tr>\n",
       "    <tr>\n",
       "      <th>2024-12-17 15:15:00+05:30</th>\n",
       "      <td>850.70</td>\n",
       "      <td>850.95</td>\n",
       "      <td>849.75</td>\n",
       "      <td>849.85</td>\n",
       "      <td>420610</td>\n",
       "    </tr>\n",
       "    <tr>\n",
       "      <th>2024-12-17 15:20:00+05:30</th>\n",
       "      <td>849.80</td>\n",
       "      <td>851.30</td>\n",
       "      <td>849.75</td>\n",
       "      <td>850.70</td>\n",
       "      <td>297845</td>\n",
       "    </tr>\n",
       "    <tr>\n",
       "      <th>2024-12-17 15:25:00+05:30</th>\n",
       "      <td>849.80</td>\n",
       "      <td>850.70</td>\n",
       "      <td>848.85</td>\n",
       "      <td>850.00</td>\n",
       "      <td>193961</td>\n",
       "    </tr>\n",
       "  </tbody>\n",
       "</table>\n",
       "<p>75 rows × 5 columns</p>\n",
       "</div>"
      ],
      "text/plain": [
       "                            close    high     low    open  volume\n",
       "timestamp                                                        \n",
       "2024-12-17 09:15:00+05:30  862.00  862.60  858.35  858.55  197536\n",
       "2024-12-17 09:20:00+05:30  860.95  862.00  860.10  861.70   92286\n",
       "2024-12-17 09:25:00+05:30  860.75  862.00  860.65  860.95   82038\n",
       "2024-12-17 09:30:00+05:30  861.00  861.90  860.10  860.75   77185\n",
       "2024-12-17 09:35:00+05:30  859.95  860.95  859.55  860.25   72397\n",
       "...                           ...     ...     ...     ...     ...\n",
       "2024-12-17 15:05:00+05:30  851.25  851.80  850.20  850.65  245731\n",
       "2024-12-17 15:10:00+05:30  849.65  851.25  849.55  851.25  281770\n",
       "2024-12-17 15:15:00+05:30  850.70  850.95  849.75  849.85  420610\n",
       "2024-12-17 15:20:00+05:30  849.80  851.30  849.75  850.70  297845\n",
       "2024-12-17 15:25:00+05:30  849.80  850.70  848.85  850.00  193961\n",
       "\n",
       "[75 rows x 5 columns]"
      ]
     },
     "execution_count": 6,
     "metadata": {},
     "output_type": "execute_result"
    }
   ],
   "source": [
    "client.history(symbol=\"SBIN\", \n",
    "    exchange=\"NSE\", \n",
    "    interval=\"5m\", \n",
    "    start_date=\"2024-12-17\", \n",
    "    end_date=\"2024-12-31\"\n",
    "    )"
   ]
  },
  {
   "cell_type": "code",
   "execution_count": 5,
   "metadata": {},
   "outputs": [
    {
     "data": {
      "text/plain": [
       "{'status': 'success',\n",
       " 'data': {'seconds': ['5s', '10s', '15s', '30s', '45s'],\n",
       "  'minutes': ['1m', '2m', '3m', '5m', '10m', '15m', '20m', '30m'],\n",
       "  'hours': ['1h', '2h', '4h'],\n",
       "  'days': ['D'],\n",
       "  'weeks': ['W'],\n",
       "  'months': ['M']}}"
      ]
     },
     "execution_count": 5,
     "metadata": {},
     "output_type": "execute_result"
    }
   ],
   "source": [
    "response = client.interval()\n",
    "response"
   ]
  }
 ],
 "metadata": {
  "kernelspec": {
   "display_name": "venv",
   "language": "python",
   "name": "python3"
  },
  "language_info": {
   "codemirror_mode": {
    "name": "ipython",
    "version": 3
   },
   "file_extension": ".py",
   "mimetype": "text/x-python",
   "name": "python",
   "nbconvert_exporter": "python",
   "pygments_lexer": "ipython3",
   "version": "3.13.0"
  }
 },
 "nbformat": 4,
 "nbformat_minor": 2
}
